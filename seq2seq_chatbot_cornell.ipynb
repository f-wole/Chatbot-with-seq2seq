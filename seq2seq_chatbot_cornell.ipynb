{
 "cells": [
  {
   "cell_type": "markdown",
   "metadata": {},
   "source": [
    "# Chatbot with sequence to sequence model\n",
    "\n",
    "We implement a simple chatbot using the sequence to sequence model developed by Ilya Sutskever, Oriol Vinyals and Quoc V. Le (https://papers.nips.cc/paper/5346-sequence-to-sequence-learning-with-neural-networks.pdf) which uses two LSTM neural networks, one for encodeing purpose and one for decoding purpose.\n",
    "We train the model on the famous Cornell movie-dialogs corpus (https://www.cs.cornell.edu/~cristian/Cornell_Movie-Dialogs_Corpus.html).\n",
    "\n",
    "Notice that we considered dialogs as couples of sentences, of which the first sentence is denote as \"question\" (althogh it is not always a question grammatically) and the second one as \"answer\""
   ]
  },
  {
   "cell_type": "code",
   "execution_count": 235,
   "metadata": {},
   "outputs": [],
   "source": [
    "from keras.models import Model\n",
    "from keras.layers import Input, LSTM, Dense\n",
    "from keras.callbacks import EarlyStopping\n",
    "import numpy as np\n",
    "import io\n",
    "import pandas as pd\n",
    "import ast\n",
    "import matplotlib.pyplot as plt"
   ]
  },
  {
   "cell_type": "markdown",
   "metadata": {},
   "source": [
    "## Part 1: Get question and answers from dataset and clean them\n",
    "\n",
    "We start from a list (containing lists of dialogs) and from a dictionary (with keys corresponding to the identification codes of dialogs and values corresponding to dialogs). From them we get a list of questions and a list of answers. "
   ]
  },
  {
   "cell_type": "code",
   "execution_count": 171,
   "metadata": {},
   "outputs": [],
   "source": [
    "lin=io.open('cornell/movie_lines.txt',encoding=\"utf-8\",errors=\"ignore\").read().split('\\n')\n",
    "conv=io.open('cornell/movie_conversations.txt',encoding=\"utf-8\",errors=\"ignore\").read().split('\\n')"
   ]
  },
  {
   "cell_type": "code",
   "execution_count": 172,
   "metadata": {},
   "outputs": [
    {
     "name": "stdout",
     "output_type": "stream",
     "text": [
      "[u'L1045 +++$+++ u0 +++$+++ m0 +++$+++ BIANCA +++$+++ They do not!', u'L1044 +++$+++ u2 +++$+++ m0 +++$+++ CAMERON +++$+++ They do to!', u'L985 +++$+++ u0 +++$+++ m0 +++$+++ BIANCA +++$+++ I hope so.', u'L984 +++$+++ u2 +++$+++ m0 +++$+++ CAMERON +++$+++ She okay?', u\"L925 +++$+++ u0 +++$+++ m0 +++$+++ BIANCA +++$+++ Let's go.\", u'L924 +++$+++ u2 +++$+++ m0 +++$+++ CAMERON +++$+++ Wow', u\"L872 +++$+++ u0 +++$+++ m0 +++$+++ BIANCA +++$+++ Okay -- you're gonna need to learn how to lie.\", u'L871 +++$+++ u2 +++$+++ m0 +++$+++ CAMERON +++$+++ No', u'L870 +++$+++ u0 +++$+++ m0 +++$+++ BIANCA +++$+++ I\\'m kidding.  You know how sometimes you just become this \"persona\"?  And you don\\'t know how to quit?', u'L869 +++$+++ u0 +++$+++ m0 +++$+++ BIANCA +++$+++ Like my fear of wearing pastels?']\n",
      "[u\"u0 +++$+++ u2 +++$+++ m0 +++$+++ ['L194', 'L195', 'L196', 'L197']\", u\"u0 +++$+++ u2 +++$+++ m0 +++$+++ ['L198', 'L199']\", u\"u0 +++$+++ u2 +++$+++ m0 +++$+++ ['L200', 'L201', 'L202', 'L203']\", u\"u0 +++$+++ u2 +++$+++ m0 +++$+++ ['L204', 'L205', 'L206']\", u\"u0 +++$+++ u2 +++$+++ m0 +++$+++ ['L207', 'L208']\", u\"u0 +++$+++ u2 +++$+++ m0 +++$+++ ['L271', 'L272', 'L273', 'L274', 'L275']\", u\"u0 +++$+++ u2 +++$+++ m0 +++$+++ ['L276', 'L277']\", u\"u0 +++$+++ u2 +++$+++ m0 +++$+++ ['L280', 'L281']\", u\"u0 +++$+++ u2 +++$+++ m0 +++$+++ ['L363', 'L364']\", u\"u0 +++$+++ u2 +++$+++ m0 +++$+++ ['L365', 'L366']\"]\n"
     ]
    }
   ],
   "source": [
    "print lin[:10]\n",
    "print conv[:10]"
   ]
  },
  {
   "cell_type": "code",
   "execution_count": 173,
   "metadata": {},
   "outputs": [],
   "source": [
    "conversations=[]\n",
    "for co in conv:\n",
    "    conversations.append(co.split(\" +++$+++ \")[-1])\n",
    "\n",
    "conversations=[str(x) for x in conversations]\n",
    "conversations=[ast.literal_eval(x) for x in conversations[:-1]]"
   ]
  },
  {
   "cell_type": "code",
   "execution_count": 263,
   "metadata": {},
   "outputs": [
    {
     "data": {
      "text/plain": [
       "[['L194', 'L195', 'L196', 'L197'],\n",
       " ['L198', 'L199'],\n",
       " ['L200', 'L201', 'L202', 'L203'],\n",
       " ['L204', 'L205', 'L206'],\n",
       " ['L207', 'L208']]"
      ]
     },
     "execution_count": 263,
     "metadata": {},
     "output_type": "execute_result"
    }
   ],
   "source": [
    "conversations[:5]"
   ]
  },
  {
   "cell_type": "code",
   "execution_count": 175,
   "metadata": {},
   "outputs": [],
   "source": [
    "lines=[]\n",
    "for li in lin:\n",
    "    lines.append([str(li.split(\" +++$+++ \")[0]),str(li.split(\" +++$+++ \")[-1])])\n",
    "lines=lines[:-1]\n",
    "\n",
    "lines_dict={}\n",
    "for line in lines:\n",
    "    lines_dict[line[0]]=line[1]"
   ]
  },
  {
   "cell_type": "code",
   "execution_count": 262,
   "metadata": {},
   "outputs": [
    {
     "name": "stdout",
     "output_type": "stream",
     "text": [
      "L479748 And what did you say?\n",
      "L638646 Oh, yes. You noticed the way she does her hair.\n",
      "L525290 Cool!\n",
      "L638647 Something else. My wife, Madeleine, has several pieces of jewelry that belonged to Carlotta. She inherited them. Never wore them, they were too old-fashioned... until now. Now, when she is alone, she gets them out and looks at them handles them gently, curiously... puts them on and stares at herself in the mirror... and goes into that other world... is someone else again.\n",
      "L345355 For what? Breaking my heart or ruining sex for me with any other man?\n"
     ]
    }
   ],
   "source": [
    "for key,value in lines_dict.items()[:5]:\n",
    "    print key,value"
   ]
  },
  {
   "cell_type": "code",
   "execution_count": 177,
   "metadata": {},
   "outputs": [],
   "source": [
    "questions=[]\n",
    "answers=[]\n",
    "for conv in conversations:\n",
    "    for ind in range(len(conv)-1):\n",
    "        questions.append(lines_dict[conv[ind]])\n",
    "        answers.append(lines_dict[conv[ind+1]])"
   ]
  },
  {
   "cell_type": "code",
   "execution_count": 178,
   "metadata": {},
   "outputs": [
    {
     "name": "stdout",
     "output_type": "stream",
     "text": [
      "221616 221616\n"
     ]
    }
   ],
   "source": [
    "# We check that questions and answers have the same length\n",
    "\n",
    "print len(questions),len(answers)"
   ]
  },
  {
   "cell_type": "code",
   "execution_count": 179,
   "metadata": {},
   "outputs": [
    {
     "name": "stdout",
     "output_type": "stream",
     "text": [
      "Can we make this quick?  Roxanne Korrine and Andrew Barrett are having an incredibly horrendous public break- up on the quad.  Again.\n",
      "Well, I thought we'd start with pronunciation, if that's okay with you. \n",
      "\n",
      "Well, I thought we'd start with pronunciation, if that's okay with you.\n",
      "Not the hacking and gagging and spitting part.  Please. \n",
      "\n",
      "Not the hacking and gagging and spitting part.  Please.\n",
      "Okay... then how 'bout we try out some French cuisine.  Saturday?  Night? \n",
      "\n",
      "You're asking me out.  That's so cute. What's your name again?\n",
      "Forget it. \n",
      "\n",
      "No, no, it's my fault -- we didn't have a proper introduction ---\n",
      "Cameron. \n",
      "\n"
     ]
    }
   ],
   "source": [
    "# Do questions and answers make sense? It seems so.\n",
    "\n",
    "for i in range(5):\n",
    "    print questions[i]\n",
    "    print answers[i],\"\\n\""
   ]
  },
  {
   "cell_type": "markdown",
   "metadata": {},
   "source": [
    "### Part 1.1: Clean questions and answers\n",
    "\n",
    "Before feeding them to the chatbot, we need to clean questions and answers and select only the ones of \"medium\" length"
   ]
  },
  {
   "cell_type": "code",
   "execution_count": 180,
   "metadata": {},
   "outputs": [],
   "source": [
    "qa=pd.DataFrame({\"question\":questions,\"answer\":answers})"
   ]
  },
  {
   "cell_type": "code",
   "execution_count": 181,
   "metadata": {},
   "outputs": [],
   "source": [
    "def clean(text):\n",
    "    \n",
    "    text=text.lower()\n",
    "    \n",
    "    text=text.replace(\"'m\",\" am\")\n",
    "    text=text.replace(\"'re\",\" are\")\n",
    "    text=text.replace(\"he's\",\"he is\")\n",
    "    text=text.replace(\"she's\",\"she is\")\n",
    "    text=text.replace(\"that's\",\"that is\")\n",
    "    text=text.replace(\"how's\",\"how is\")\n",
    "    text=text.replace(\"'ll\",\" will\")\n",
    "    text=text.replace(\"'d\",\" would\")\n",
    "    text=text.replace(\"won't\",\"will not\")\n",
    "    text=text.replace(\"can't\",\"can not\")\n",
    "    text=text.replace(\"'till\",\"untill\")\n",
    "    text=text.replace(\"where's\",\"where is\")\n",
    "    text=text.replace(\"n't\",\" not\")\n",
    "    text=text.replace(\"'till\",\"untill\")\n",
    "    text=text.replace(\"n'\",\"ng\")\n",
    "    \n",
    "    for item in [\"@\",\"#\",\"!\",\":\",\"?\",\"(\",\")\",\"<\",\">\",\"-\",\"[\",\"]\",\"'\",\"_\",\",\",\"'\",\"*\",\".\",\"^\",\"=\",\";\",'\"']:\n",
    "        text=text.replace(item,\"\")\n",
    "    \n",
    "    return text"
   ]
  },
  {
   "cell_type": "code",
   "execution_count": 182,
   "metadata": {},
   "outputs": [],
   "source": [
    "qa[\"question\"]=qa[\"question\"].apply(clean)\n",
    "qa[\"answer\"]=qa[\"answer\"].apply(clean)\n",
    "\n",
    "qa[\"question\"]=qa[\"question\"].apply(lambda x:x.split())\n",
    "qa[\"answer\"]=qa[\"answer\"].apply(lambda x:x.split())\n",
    "\n",
    "qa[\"question_len\"]=qa[\"question\"].apply(lambda x:len(x))\n",
    "qa[\"answer_len\"]=qa[\"answer\"].apply(lambda x:len(x))"
   ]
  },
  {
   "cell_type": "code",
   "execution_count": 183,
   "metadata": {},
   "outputs": [
    {
     "data": {
      "text/html": [
       "<div>\n",
       "<style scoped>\n",
       "    .dataframe tbody tr th:only-of-type {\n",
       "        vertical-align: middle;\n",
       "    }\n",
       "\n",
       "    .dataframe tbody tr th {\n",
       "        vertical-align: top;\n",
       "    }\n",
       "\n",
       "    .dataframe thead th {\n",
       "        text-align: right;\n",
       "    }\n",
       "</style>\n",
       "<table border=\"1\" class=\"dataframe\">\n",
       "  <thead>\n",
       "    <tr style=\"text-align: right;\">\n",
       "      <th></th>\n",
       "      <th>answer</th>\n",
       "      <th>question</th>\n",
       "      <th>question_len</th>\n",
       "      <th>answer_len</th>\n",
       "    </tr>\n",
       "  </thead>\n",
       "  <tbody>\n",
       "    <tr>\n",
       "      <th>0</th>\n",
       "      <td>[well, i, thought, we, would, start, with, pro...</td>\n",
       "      <td>[can, we, make, this, quick, roxanne, korrine,...</td>\n",
       "      <td>22</td>\n",
       "      <td>14</td>\n",
       "    </tr>\n",
       "    <tr>\n",
       "      <th>1</th>\n",
       "      <td>[not, the, hacking, and, gagging, and, spittin...</td>\n",
       "      <td>[well, i, thought, we, would, start, with, pro...</td>\n",
       "      <td>14</td>\n",
       "      <td>9</td>\n",
       "    </tr>\n",
       "    <tr>\n",
       "      <th>2</th>\n",
       "      <td>[okay, then, how, bout, we, try, out, some, fr...</td>\n",
       "      <td>[not, the, hacking, and, gagging, and, spittin...</td>\n",
       "      <td>9</td>\n",
       "      <td>12</td>\n",
       "    </tr>\n",
       "    <tr>\n",
       "      <th>3</th>\n",
       "      <td>[forget, it]</td>\n",
       "      <td>[you, are, asking, me, out, that, is, so, cute...</td>\n",
       "      <td>13</td>\n",
       "      <td>2</td>\n",
       "    </tr>\n",
       "    <tr>\n",
       "      <th>4</th>\n",
       "      <td>[cameron]</td>\n",
       "      <td>[no, no, its, my, fault, we, did, not, have, a...</td>\n",
       "      <td>12</td>\n",
       "      <td>1</td>\n",
       "    </tr>\n",
       "    <tr>\n",
       "      <th>5</th>\n",
       "      <td>[the, thing, is, cameron, i, am, at, the, merc...</td>\n",
       "      <td>[cameron]</td>\n",
       "      <td>1</td>\n",
       "      <td>25</td>\n",
       "    </tr>\n",
       "    <tr>\n",
       "      <th>6</th>\n",
       "      <td>[seems, like, she, could, get, a, date, easy, ...</td>\n",
       "      <td>[the, thing, is, cameron, i, am, at, the, merc...</td>\n",
       "      <td>25</td>\n",
       "      <td>9</td>\n",
       "    </tr>\n",
       "    <tr>\n",
       "      <th>7</th>\n",
       "      <td>[unsolved, mystery, she, used, to, be, really,...</td>\n",
       "      <td>[why]</td>\n",
       "      <td>1</td>\n",
       "      <td>25</td>\n",
       "    </tr>\n",
       "    <tr>\n",
       "      <th>8</th>\n",
       "      <td>[that, is, a, shame]</td>\n",
       "      <td>[unsolved, mystery, she, used, to, be, really,...</td>\n",
       "      <td>25</td>\n",
       "      <td>4</td>\n",
       "    </tr>\n",
       "    <tr>\n",
       "      <th>9</th>\n",
       "      <td>[let, me, see, what, i, can, do]</td>\n",
       "      <td>[gosh, if, only, we, could, find, kat, a, boyf...</td>\n",
       "      <td>9</td>\n",
       "      <td>7</td>\n",
       "    </tr>\n",
       "  </tbody>\n",
       "</table>\n",
       "</div>"
      ],
      "text/plain": [
       "                                              answer  \\\n",
       "0  [well, i, thought, we, would, start, with, pro...   \n",
       "1  [not, the, hacking, and, gagging, and, spittin...   \n",
       "2  [okay, then, how, bout, we, try, out, some, fr...   \n",
       "3                                       [forget, it]   \n",
       "4                                          [cameron]   \n",
       "5  [the, thing, is, cameron, i, am, at, the, merc...   \n",
       "6  [seems, like, she, could, get, a, date, easy, ...   \n",
       "7  [unsolved, mystery, she, used, to, be, really,...   \n",
       "8                               [that, is, a, shame]   \n",
       "9                   [let, me, see, what, i, can, do]   \n",
       "\n",
       "                                            question  question_len  answer_len  \n",
       "0  [can, we, make, this, quick, roxanne, korrine,...            22          14  \n",
       "1  [well, i, thought, we, would, start, with, pro...            14           9  \n",
       "2  [not, the, hacking, and, gagging, and, spittin...             9          12  \n",
       "3  [you, are, asking, me, out, that, is, so, cute...            13           2  \n",
       "4  [no, no, its, my, fault, we, did, not, have, a...            12           1  \n",
       "5                                          [cameron]             1          25  \n",
       "6  [the, thing, is, cameron, i, am, at, the, merc...            25           9  \n",
       "7                                              [why]             1          25  \n",
       "8  [unsolved, mystery, she, used, to, be, really,...            25           4  \n",
       "9  [gosh, if, only, we, could, find, kat, a, boyf...             9           7  "
      ]
     },
     "execution_count": 183,
     "metadata": {},
     "output_type": "execute_result"
    }
   ],
   "source": [
    "qa.iloc[:10,:]"
   ]
  },
  {
   "cell_type": "code",
   "execution_count": 184,
   "metadata": {},
   "outputs": [],
   "source": [
    "min_len=3\n",
    "max_len=9\n",
    "\n",
    "qas=qa.drop(qa.index[(qa.question_len>max_len)|(qa.question_len<min_len)],axis=0)\n",
    "qas=qas.drop(qas.index[(qas.answer_len>max_len)|(qas.answer_len<min_len)],axis=0)"
   ]
  },
  {
   "cell_type": "code",
   "execution_count": 185,
   "metadata": {},
   "outputs": [
    {
     "data": {
      "text/html": [
       "<div>\n",
       "<style scoped>\n",
       "    .dataframe tbody tr th:only-of-type {\n",
       "        vertical-align: middle;\n",
       "    }\n",
       "\n",
       "    .dataframe tbody tr th {\n",
       "        vertical-align: top;\n",
       "    }\n",
       "\n",
       "    .dataframe thead th {\n",
       "        text-align: right;\n",
       "    }\n",
       "</style>\n",
       "<table border=\"1\" class=\"dataframe\">\n",
       "  <thead>\n",
       "    <tr style=\"text-align: right;\">\n",
       "      <th></th>\n",
       "      <th>answer</th>\n",
       "      <th>question</th>\n",
       "      <th>question_len</th>\n",
       "      <th>answer_len</th>\n",
       "    </tr>\n",
       "  </thead>\n",
       "  <tbody>\n",
       "    <tr>\n",
       "      <th>9</th>\n",
       "      <td>[let, me, see, what, i, can, do]</td>\n",
       "      <td>[gosh, if, only, we, could, find, kat, a, boyf...</td>\n",
       "      <td>9</td>\n",
       "      <td>7</td>\n",
       "    </tr>\n",
       "    <tr>\n",
       "      <th>10</th>\n",
       "      <td>[right, see, you, are, ready, for, the, quiz]</td>\n",
       "      <td>[cesc, ma, tete, this, is, my, head]</td>\n",
       "      <td>7</td>\n",
       "      <td>8</td>\n",
       "    </tr>\n",
       "    <tr>\n",
       "      <th>17</th>\n",
       "      <td>[you, are, sweet]</td>\n",
       "      <td>[you, have, my, word, as, a, gentleman]</td>\n",
       "      <td>7</td>\n",
       "      <td>3</td>\n",
       "    </tr>\n",
       "    <tr>\n",
       "      <th>25</th>\n",
       "      <td>[i, believe, we, share, an, art, instructor]</td>\n",
       "      <td>[you, know, chastity]</td>\n",
       "      <td>3</td>\n",
       "      <td>7</td>\n",
       "    </tr>\n",
       "    <tr>\n",
       "      <th>37</th>\n",
       "      <td>[the, real, you]</td>\n",
       "      <td>[what, good, stuff]</td>\n",
       "      <td>3</td>\n",
       "      <td>3</td>\n",
       "    </tr>\n",
       "    <tr>\n",
       "      <th>38</th>\n",
       "      <td>[like, my, fear, of, wearing, pastels]</td>\n",
       "      <td>[the, real, you]</td>\n",
       "      <td>3</td>\n",
       "      <td>6</td>\n",
       "    </tr>\n",
       "    <tr>\n",
       "      <th>43</th>\n",
       "      <td>[they, do, not]</td>\n",
       "      <td>[they, do, to]</td>\n",
       "      <td>3</td>\n",
       "      <td>3</td>\n",
       "    </tr>\n",
       "    <tr>\n",
       "      <th>53</th>\n",
       "      <td>[i, do, not, have, to, be, home, til, two]</td>\n",
       "      <td>[i, have, to, be, home, in, twenty, minutes]</td>\n",
       "      <td>8</td>\n",
       "      <td>9</td>\n",
       "    </tr>\n",
       "    <tr>\n",
       "      <th>63</th>\n",
       "      <td>[nowhere, hi, daddy]</td>\n",
       "      <td>[whereve, you, been]</td>\n",
       "      <td>3</td>\n",
       "      <td>3</td>\n",
       "    </tr>\n",
       "    <tr>\n",
       "      <th>74</th>\n",
       "      <td>[can, we, go, now]</td>\n",
       "      <td>[you, are, so, completely, unbalanced]</td>\n",
       "      <td>5</td>\n",
       "      <td>4</td>\n",
       "    </tr>\n",
       "  </tbody>\n",
       "</table>\n",
       "</div>"
      ],
      "text/plain": [
       "                                           answer  \\\n",
       "9                [let, me, see, what, i, can, do]   \n",
       "10  [right, see, you, are, ready, for, the, quiz]   \n",
       "17                              [you, are, sweet]   \n",
       "25   [i, believe, we, share, an, art, instructor]   \n",
       "37                               [the, real, you]   \n",
       "38         [like, my, fear, of, wearing, pastels]   \n",
       "43                                [they, do, not]   \n",
       "53     [i, do, not, have, to, be, home, til, two]   \n",
       "63                           [nowhere, hi, daddy]   \n",
       "74                             [can, we, go, now]   \n",
       "\n",
       "                                             question  question_len  \\\n",
       "9   [gosh, if, only, we, could, find, kat, a, boyf...             9   \n",
       "10               [cesc, ma, tete, this, is, my, head]             7   \n",
       "17            [you, have, my, word, as, a, gentleman]             7   \n",
       "25                              [you, know, chastity]             3   \n",
       "37                                [what, good, stuff]             3   \n",
       "38                                   [the, real, you]             3   \n",
       "43                                     [they, do, to]             3   \n",
       "53       [i, have, to, be, home, in, twenty, minutes]             8   \n",
       "63                               [whereve, you, been]             3   \n",
       "74             [you, are, so, completely, unbalanced]             5   \n",
       "\n",
       "    answer_len  \n",
       "9            7  \n",
       "10           8  \n",
       "17           3  \n",
       "25           7  \n",
       "37           3  \n",
       "38           6  \n",
       "43           3  \n",
       "53           9  \n",
       "63           3  \n",
       "74           4  "
      ]
     },
     "execution_count": 185,
     "metadata": {},
     "output_type": "execute_result"
    }
   ],
   "source": [
    "qas.iloc[:10,:]"
   ]
  },
  {
   "cell_type": "markdown",
   "metadata": {},
   "source": [
    "## Part 1.2: Select only questions and answers with frequent words\n",
    "\n",
    "In order to make training easier, we select only questions and answers with frequent words"
   ]
  },
  {
   "cell_type": "code",
   "execution_count": 186,
   "metadata": {},
   "outputs": [],
   "source": [
    "# voc_freq_q contains each word which appears in questions with its number of occurences\n",
    "\n",
    "voc_freq_q={}\n",
    "\n",
    "for sent in list(qas[\"question\"]):\n",
    "    for word in sent:\n",
    "        if word not in voc_freq_q.keys():\n",
    "            voc_freq_q[word]=1\n",
    "        else:\n",
    "            voc_freq_q[word]+=1"
   ]
  },
  {
   "cell_type": "code",
   "execution_count": 187,
   "metadata": {},
   "outputs": [],
   "source": [
    "# voc_freq_a contains each word which appears in answers with its number of occurences\n",
    "\n",
    "voc_freq_a={}\n",
    "\n",
    "for sent in list(qas[\"answer\"]):\n",
    "    for word in sent:\n",
    "        if word not in voc_freq_a.keys():\n",
    "            voc_freq_a[word]=1\n",
    "        else:\n",
    "            voc_freq_a[word]+=1"
   ]
  },
  {
   "cell_type": "code",
   "execution_count": 188,
   "metadata": {},
   "outputs": [
    {
     "name": "stdout",
     "output_type": "stream",
     "text": [
      "16153 16099\n"
     ]
    }
   ],
   "source": [
    "print len(voc_freq_q.keys()),len(voc_freq_a.keys())"
   ]
  },
  {
   "cell_type": "code",
   "execution_count": 189,
   "metadata": {},
   "outputs": [],
   "source": [
    "# Now we select only the words which appear at least *limit* number of times\n",
    "\n",
    "limit = 40\n",
    "freq_words_q=[]\n",
    "for word,freq in voc_freq_q.items():\n",
    "    if freq>limit:\n",
    "        freq_words_q.append(word)\n",
    "        \n",
    "freq_words_a=[]\n",
    "for word,freq in voc_freq_a.items():\n",
    "    if freq>limit:\n",
    "        freq_words_a.append(word)"
   ]
  },
  {
   "cell_type": "code",
   "execution_count": 190,
   "metadata": {},
   "outputs": [
    {
     "name": "stdout",
     "output_type": "stream",
     "text": [
      "569 562\n"
     ]
    }
   ],
   "source": [
    "# See that they are much fewer\n",
    "\n",
    "print len(freq_words_q),len(freq_words_a)"
   ]
  },
  {
   "cell_type": "code",
   "execution_count": 191,
   "metadata": {},
   "outputs": [],
   "source": [
    "# Replace each non-frequent word in questions with \"UNK\" and remove from the dataframe questions with \"UNK\"\n",
    "\n",
    "for sent in qas[\"question\"]:\n",
    "    for ind in range(len(sent)):\n",
    "        if sent[ind] not in freq_words_q:\n",
    "            sent[ind]=\"UNK\"\n",
    "            \n",
    "qas[\"clean_question_len\"]=qas[\"question\"].apply(lambda x : len([ele for ele in x if ele!=\"UNK\"]))\n",
    "qas=qas.drop(qas.index[qas[\"question_len\"]-qas[\"clean_question_len\"]>0],axis=0)"
   ]
  },
  {
   "cell_type": "code",
   "execution_count": 192,
   "metadata": {},
   "outputs": [],
   "source": [
    "# Do the same for answers\n",
    "\n",
    "for sent in qas[\"answer\"]:\n",
    "    for ind in range(len(sent)):\n",
    "        if sent[ind] not in freq_words_a:\n",
    "            sent[ind]=\"UNK\"\n",
    "\n",
    "qas[\"clean_answer_len\"]=qas[\"answer\"].apply(lambda x : len([ele for ele in x if ele!=\"UNK\"]))\n",
    "qas=qas.drop(qas.index[qas[\"answer_len\"]-qas[\"clean_answer_len\"]>0],axis=0)"
   ]
  },
  {
   "cell_type": "code",
   "execution_count": 193,
   "metadata": {},
   "outputs": [],
   "source": [
    "# The answers must start with \"ST\" (which signals to the model that the answer is starting) and end with \"EOS\" \n",
    "# (which signals to the model that the answer is ending)\n",
    "\n",
    "qas[\"answer\"]=qas[\"answer\"].apply(lambda x : [\"ST\"]+x+[\"EOS\"])"
   ]
  },
  {
   "cell_type": "code",
   "execution_count": 194,
   "metadata": {},
   "outputs": [
    {
     "data": {
      "text/html": [
       "<div>\n",
       "<style scoped>\n",
       "    .dataframe tbody tr th:only-of-type {\n",
       "        vertical-align: middle;\n",
       "    }\n",
       "\n",
       "    .dataframe tbody tr th {\n",
       "        vertical-align: top;\n",
       "    }\n",
       "\n",
       "    .dataframe thead th {\n",
       "        text-align: right;\n",
       "    }\n",
       "</style>\n",
       "<table border=\"1\" class=\"dataframe\">\n",
       "  <thead>\n",
       "    <tr style=\"text-align: right;\">\n",
       "      <th></th>\n",
       "      <th>answer</th>\n",
       "      <th>question</th>\n",
       "      <th>question_len</th>\n",
       "      <th>answer_len</th>\n",
       "      <th>clean_question_len</th>\n",
       "      <th>clean_answer_len</th>\n",
       "    </tr>\n",
       "  </thead>\n",
       "  <tbody>\n",
       "    <tr>\n",
       "      <th>37</th>\n",
       "      <td>[ST, the, real, you, EOS]</td>\n",
       "      <td>[what, good, stuff]</td>\n",
       "      <td>3</td>\n",
       "      <td>3</td>\n",
       "      <td>3</td>\n",
       "      <td>3</td>\n",
       "    </tr>\n",
       "    <tr>\n",
       "      <th>43</th>\n",
       "      <td>[ST, they, do, not, EOS]</td>\n",
       "      <td>[they, do, to]</td>\n",
       "      <td>3</td>\n",
       "      <td>3</td>\n",
       "      <td>3</td>\n",
       "      <td>3</td>\n",
       "    </tr>\n",
       "    <tr>\n",
       "      <th>100</th>\n",
       "      <td>[ST, i, just, wanted, EOS]</td>\n",
       "      <td>[you, set, me, up]</td>\n",
       "      <td>4</td>\n",
       "      <td>3</td>\n",
       "      <td>4</td>\n",
       "      <td>3</td>\n",
       "    </tr>\n",
       "    <tr>\n",
       "      <th>132</th>\n",
       "      <td>[ST, so, they, tell, me, EOS]</td>\n",
       "      <td>[you, the, new, guy]</td>\n",
       "      <td>4</td>\n",
       "      <td>4</td>\n",
       "      <td>4</td>\n",
       "      <td>4</td>\n",
       "    </tr>\n",
       "    <tr>\n",
       "      <th>158</th>\n",
       "      <td>[ST, you, wanna, go, out, with, him, EOS]</td>\n",
       "      <td>[what, about, him]</td>\n",
       "      <td>3</td>\n",
       "      <td>6</td>\n",
       "      <td>3</td>\n",
       "      <td>6</td>\n",
       "    </tr>\n",
       "    <tr>\n",
       "      <th>175</th>\n",
       "      <td>[ST, okay, i, was, not, sure, EOS]</td>\n",
       "      <td>[he, is, pretty]</td>\n",
       "      <td>3</td>\n",
       "      <td>5</td>\n",
       "      <td>3</td>\n",
       "      <td>5</td>\n",
       "    </tr>\n",
       "    <tr>\n",
       "      <th>197</th>\n",
       "      <td>[ST, not, at, all, EOS]</td>\n",
       "      <td>[hey, do, you, mind]</td>\n",
       "      <td>4</td>\n",
       "      <td>3</td>\n",
       "      <td>4</td>\n",
       "      <td>3</td>\n",
       "    </tr>\n",
       "    <tr>\n",
       "      <th>200</th>\n",
       "      <td>[ST, and, why, would, i, do, that, EOS]</td>\n",
       "      <td>[leave, my, sister, alone]</td>\n",
       "      <td>4</td>\n",
       "      <td>6</td>\n",
       "      <td>4</td>\n",
       "      <td>6</td>\n",
       "    </tr>\n",
       "    <tr>\n",
       "      <th>205</th>\n",
       "      <td>[ST, you, need, money, to, take, a, girl, out,...</td>\n",
       "      <td>[you, just, said]</td>\n",
       "      <td>3</td>\n",
       "      <td>8</td>\n",
       "      <td>3</td>\n",
       "      <td>8</td>\n",
       "    </tr>\n",
       "    <tr>\n",
       "      <th>286</th>\n",
       "      <td>[ST, funny, you, are, the, only, one, EOS]</td>\n",
       "      <td>[i, say, do, what, you, wanna, do]</td>\n",
       "      <td>7</td>\n",
       "      <td>6</td>\n",
       "      <td>7</td>\n",
       "      <td>6</td>\n",
       "    </tr>\n",
       "  </tbody>\n",
       "</table>\n",
       "</div>"
      ],
      "text/plain": [
       "                                                answer  \\\n",
       "37                           [ST, the, real, you, EOS]   \n",
       "43                            [ST, they, do, not, EOS]   \n",
       "100                         [ST, i, just, wanted, EOS]   \n",
       "132                      [ST, so, they, tell, me, EOS]   \n",
       "158          [ST, you, wanna, go, out, with, him, EOS]   \n",
       "175                 [ST, okay, i, was, not, sure, EOS]   \n",
       "197                            [ST, not, at, all, EOS]   \n",
       "200            [ST, and, why, would, i, do, that, EOS]   \n",
       "205  [ST, you, need, money, to, take, a, girl, out,...   \n",
       "286         [ST, funny, you, are, the, only, one, EOS]   \n",
       "\n",
       "                               question  question_len  answer_len  \\\n",
       "37                  [what, good, stuff]             3           3   \n",
       "43                       [they, do, to]             3           3   \n",
       "100                  [you, set, me, up]             4           3   \n",
       "132                [you, the, new, guy]             4           4   \n",
       "158                  [what, about, him]             3           6   \n",
       "175                    [he, is, pretty]             3           5   \n",
       "197                [hey, do, you, mind]             4           3   \n",
       "200          [leave, my, sister, alone]             4           6   \n",
       "205                   [you, just, said]             3           8   \n",
       "286  [i, say, do, what, you, wanna, do]             7           6   \n",
       "\n",
       "     clean_question_len  clean_answer_len  \n",
       "37                    3                 3  \n",
       "43                    3                 3  \n",
       "100                   4                 3  \n",
       "132                   4                 4  \n",
       "158                   3                 6  \n",
       "175                   3                 5  \n",
       "197                   4                 3  \n",
       "200                   4                 6  \n",
       "205                   3                 8  \n",
       "286                   7                 6  "
      ]
     },
     "execution_count": 194,
     "metadata": {},
     "output_type": "execute_result"
    }
   ],
   "source": [
    "qas.iloc[:10,:]"
   ]
  },
  {
   "cell_type": "markdown",
   "metadata": {},
   "source": [
    "## Part 1.3: Tokenize questions and answers\n",
    "\n",
    "The model will read questions and answers in tokenized form. In order to tokenize questions and answers we first need to get the four dictionaries word_to_num_q, num_to_word_q,word_to_num_a and num_to_word_a."
   ]
  },
  {
   "cell_type": "code",
   "execution_count": 195,
   "metadata": {},
   "outputs": [],
   "source": [
    "word_to_num_q={}\n",
    "num_to_word_q={}\n",
    "\n",
    "for num,word in enumerate(freq_words_q):\n",
    "    word_to_num_q[word]=num\n",
    "    num_to_word_q[num]=word"
   ]
  },
  {
   "cell_type": "code",
   "execution_count": 196,
   "metadata": {},
   "outputs": [
    {
     "name": "stdout",
     "output_type": "stream",
     "text": [
      "409\n",
      "have\n"
     ]
    }
   ],
   "source": [
    "print word_to_num_q[\"have\"]\n",
    "print num_to_word_q[409]"
   ]
  },
  {
   "cell_type": "code",
   "execution_count": 197,
   "metadata": {},
   "outputs": [],
   "source": [
    "freq_words_a=freq_words_a+[\"ST\"]+[\"EOS\"]\n",
    "\n",
    "word_to_num_a={}\n",
    "num_to_word_a={}\n",
    "for num,word in enumerate(freq_words_a):\n",
    "    word_to_num_a[word]=num\n",
    "    num_to_word_a[num]=word"
   ]
  },
  {
   "cell_type": "code",
   "execution_count": 198,
   "metadata": {},
   "outputs": [
    {
     "name": "stdout",
     "output_type": "stream",
     "text": [
      "404\n",
      "have\n"
     ]
    }
   ],
   "source": [
    "print word_to_num_a[\"have\"]\n",
    "print num_to_word_a[404]"
   ]
  },
  {
   "cell_type": "code",
   "execution_count": 199,
   "metadata": {},
   "outputs": [
    {
     "name": "stdout",
     "output_type": "stream",
     "text": [
      "9 11\n"
     ]
    }
   ],
   "source": [
    "max_len_q=qas.question.apply(lambda x : len(x)).max()\n",
    "max_len_a=qas.answer.apply(lambda x : len(x)).max()\n",
    "print max_len_q,max_len_a"
   ]
  },
  {
   "cell_type": "code",
   "execution_count": 200,
   "metadata": {},
   "outputs": [],
   "source": [
    "# It will be clear in the following why target is equal to token_a shifted by 1\n",
    "\n",
    "token_q=np.zeros(shape=(qas.shape[0],max_len_q,len(freq_words_q)))\n",
    "token_a=np.zeros(shape=(qas.shape[0],max_len_a,len(freq_words_a)))\n",
    "target=np.zeros(shape=(qas.shape[0],max_len_a,len(freq_words_a)))"
   ]
  },
  {
   "cell_type": "code",
   "execution_count": 201,
   "metadata": {},
   "outputs": [
    {
     "name": "stdout",
     "output_type": "stream",
     "text": [
      "(9008, 9, 569) (9008, 11, 564) (9008, 11, 564)\n"
     ]
    }
   ],
   "source": [
    "print token_q.shape,token_a.shape,target.shape"
   ]
  },
  {
   "cell_type": "code",
   "execution_count": 202,
   "metadata": {},
   "outputs": [],
   "source": [
    "for i,ind in enumerate(qas.index):\n",
    "    for j,word in enumerate(qas[\"question\"][ind]):\n",
    "        token_q[i,j,word_to_num_q[word]]=1\n",
    "        \n",
    "    for j,word in enumerate(qas[\"answer\"][ind]):\n",
    "        token_a[i,j,word_to_num_a[word]]=1\n",
    "        if j>0:\n",
    "            target[i,j-1,word_to_num_a[word]]=1"
   ]
  },
  {
   "cell_type": "markdown",
   "metadata": {},
   "source": [
    "# Part 2: Define the model\n",
    "\n",
    "The model consists of two recurrent LSTM neural networks, one for encoder and one for decoder purpose.\n",
    "\n",
    "The encoder neural network reads each question and then transmits to the decoder neural network only the final hidden and internal states (indeed it has return_state=True and return_sequences=False).\n",
    "\n",
    "The decoder neural network, given each answer, starts with the states received from the encoder and then predicts the answer one word at a time: for each entry of token_a it predicts the corresponding entry of target, which is shifted by 1.\n",
    "\n",
    "Notice that we need to define two models, one for training and one for testing (but they share the same weights): this is because during testing the model predicts the answer one word at a time considering the words (and corresponding states) it predicted so far."
   ]
  },
  {
   "cell_type": "code",
   "execution_count": 233,
   "metadata": {},
   "outputs": [],
   "source": [
    "# Training models\n",
    "\n",
    "# Encoder model \n",
    "\n",
    "encoder_input=Input(shape=(None,len(freq_words_q))) \n",
    "encoder_LSTM=LSTM(1024,return_state=True)\n",
    "encoder_outputs,encoder_h,encoder_c=encoder_LSTM(encoder_input)\n",
    "encoder_states=[encoder_h,encoder_c]\n",
    "\n",
    "\n",
    "# Decoder model\n",
    "\n",
    "decoder_input=Input(shape=(None,len(freq_words_a))) \n",
    "decoder_LSTM=LSTM(1024,return_state=True,return_sequences=True)\n",
    "decoder_output,_,_=decoder_LSTM(decoder_input,initial_state=encoder_states)\n",
    "decoder_dense=Dense(len(freq_words_a),activation=\"softmax\")\n",
    "decoder_out=decoder_dense(decoder_output)"
   ]
  },
  {
   "cell_type": "code",
   "execution_count": 234,
   "metadata": {},
   "outputs": [
    {
     "name": "stdout",
     "output_type": "stream",
     "text": [
      "Train on 7206 samples, validate on 1802 samples\n",
      "Epoch 1/40\n",
      "7206/7206 [==============================] - 191s 27ms/step - loss: 2.5576 - val_loss: 2.4382\n",
      "Epoch 2/40\n",
      "7206/7206 [==============================] - 178s 25ms/step - loss: 2.3657 - val_loss: 2.3967\n",
      "Epoch 3/40\n",
      "7206/7206 [==============================] - 177s 25ms/step - loss: 2.2473 - val_loss: 2.2449\n",
      "Epoch 4/40\n",
      "7206/7206 [==============================] - 176s 24ms/step - loss: 2.1049 - val_loss: 2.1509\n",
      "Epoch 5/40\n",
      "7206/7206 [==============================] - 180s 25ms/step - loss: 1.9951 - val_loss: 2.0833\n",
      "Epoch 6/40\n",
      "7206/7206 [==============================] - 177s 25ms/step - loss: 1.9082 - val_loss: 2.0092\n",
      "Epoch 7/40\n",
      "7206/7206 [==============================] - 695s 96ms/step - loss: 1.8402 - val_loss: 1.9642\n",
      "Epoch 8/40\n",
      "7206/7206 [==============================] - 172s 24ms/step - loss: 1.7741 - val_loss: 1.9602\n",
      "Epoch 9/40\n",
      "7206/7206 [==============================] - 174s 24ms/step - loss: 1.7137 - val_loss: 1.9511\n",
      "Epoch 10/40\n",
      "7206/7206 [==============================] - 176s 24ms/step - loss: 1.6538 - val_loss: 1.9286\n",
      "Epoch 11/40\n",
      "7206/7206 [==============================] - 176s 24ms/step - loss: 1.5931 - val_loss: 1.9037\n",
      "Epoch 12/40\n",
      "7206/7206 [==============================] - 177s 25ms/step - loss: 1.5326 - val_loss: 1.9197\n",
      "Epoch 13/40\n",
      "7206/7206 [==============================] - 176s 24ms/step - loss: 1.4658 - val_loss: 1.9396\n",
      "Epoch 14/40\n",
      "7206/7206 [==============================] - 178s 25ms/step - loss: 1.3960 - val_loss: 1.9529\n",
      "Epoch 15/40\n",
      "7206/7206 [==============================] - 177s 25ms/step - loss: 1.3255 - val_loss: 1.9774\n",
      "Epoch 16/40\n",
      "7206/7206 [==============================] - 177s 25ms/step - loss: 1.2523 - val_loss: 2.0017\n",
      "Epoch 00016: early stopping\n"
     ]
    },
    {
     "ename": "NameError",
     "evalue": "name 'plt' is not defined",
     "output_type": "error",
     "traceback": [
      "\u001b[0;31m---------------------------------------------------------------------------\u001b[0m",
      "\u001b[0;31mNameError\u001b[0m                                 Traceback (most recent call last)",
      "\u001b[0;32m<ipython-input-234-f399c1a58bee>\u001b[0m in \u001b[0;36m<module>\u001b[0;34m()\u001b[0m\n\u001b[1;32m      5\u001b[0m \u001b[0mhistory\u001b[0m\u001b[0;34m=\u001b[0m\u001b[0mmodel\u001b[0m\u001b[0;34m.\u001b[0m\u001b[0mfit\u001b[0m\u001b[0;34m(\u001b[0m\u001b[0mx\u001b[0m\u001b[0;34m=\u001b[0m\u001b[0;34m[\u001b[0m\u001b[0mtoken_q\u001b[0m\u001b[0;34m,\u001b[0m\u001b[0mtoken_a\u001b[0m\u001b[0;34m]\u001b[0m\u001b[0;34m,\u001b[0m\u001b[0my\u001b[0m\u001b[0;34m=\u001b[0m\u001b[0mtarget\u001b[0m\u001b[0;34m,\u001b[0m\u001b[0mbatch_size\u001b[0m\u001b[0;34m=\u001b[0m\u001b[0;36m128\u001b[0m\u001b[0;34m,\u001b[0m\u001b[0mcallbacks\u001b[0m\u001b[0;34m=\u001b[0m\u001b[0;34m[\u001b[0m\u001b[0mes\u001b[0m\u001b[0;34m]\u001b[0m\u001b[0;34m,\u001b[0m\u001b[0mepochs\u001b[0m\u001b[0;34m=\u001b[0m\u001b[0;36m40\u001b[0m\u001b[0;34m,\u001b[0m\u001b[0mvalidation_split\u001b[0m\u001b[0;34m=\u001b[0m\u001b[0;36m0.2\u001b[0m\u001b[0;34m)\u001b[0m\u001b[0;34m\u001b[0m\u001b[0m\n\u001b[1;32m      6\u001b[0m \u001b[0;34m\u001b[0m\u001b[0m\n\u001b[0;32m----> 7\u001b[0;31m \u001b[0mplt\u001b[0m\u001b[0;34m.\u001b[0m\u001b[0mplot\u001b[0m\u001b[0;34m(\u001b[0m\u001b[0mhistory\u001b[0m\u001b[0;34m.\u001b[0m\u001b[0mhistory\u001b[0m\u001b[0;34m[\u001b[0m\u001b[0;34m'loss'\u001b[0m\u001b[0;34m]\u001b[0m\u001b[0;34m)\u001b[0m\u001b[0;34m\u001b[0m\u001b[0m\n\u001b[0m\u001b[1;32m      8\u001b[0m \u001b[0mplt\u001b[0m\u001b[0;34m.\u001b[0m\u001b[0mplot\u001b[0m\u001b[0;34m(\u001b[0m\u001b[0mhistory\u001b[0m\u001b[0;34m.\u001b[0m\u001b[0mhistory\u001b[0m\u001b[0;34m[\u001b[0m\u001b[0;34m'val_loss'\u001b[0m\u001b[0;34m]\u001b[0m\u001b[0;34m)\u001b[0m\u001b[0;34m\u001b[0m\u001b[0m\n\u001b[1;32m      9\u001b[0m \u001b[0mplt\u001b[0m\u001b[0;34m.\u001b[0m\u001b[0mtitle\u001b[0m\u001b[0;34m(\u001b[0m\u001b[0;34m'model loss'\u001b[0m\u001b[0;34m)\u001b[0m\u001b[0;34m\u001b[0m\u001b[0m\n",
      "\u001b[0;31mNameError\u001b[0m: name 'plt' is not defined"
     ]
    }
   ],
   "source": [
    "es=EarlyStopping(monitor=\"val_loss\",patience=5,verbose=1)\n",
    "model=Model(inputs=[encoder_input,decoder_input],outputs=[decoder_out])\n",
    "\n",
    "model.compile(optimizer=\"rmsprop\",loss=\"categorical_crossentropy\")\n",
    "history=model.fit(x=[token_q,token_a],y=target,batch_size=128,callbacks=[es],epochs=40,validation_split=0.2)"
   ]
  },
  {
   "cell_type": "code",
   "execution_count": 236,
   "metadata": {},
   "outputs": [
    {
     "data": {
      "image/png": "[encoded data removed]",
      "text/plain": [
       "<Figure size 432x288 with 1 Axes>"
      ]
     },
     "metadata": {
      "needs_background": "light"
     },
     "output_type": "display_data"
    }
   ],
   "source": [
    "plt.plot(history.history['loss'])\n",
    "plt.plot(history.history['val_loss'])\n",
    "plt.title('model loss')\n",
    "plt.ylabel('loss')\n",
    "plt.xlabel('epoch')\n",
    "plt.legend(['train', 'test'], loc='upper right')\n",
    "plt.show()"
   ]
  },
  {
   "cell_type": "code",
   "execution_count": 237,
   "metadata": {},
   "outputs": [],
   "source": [
    "model.save_weights('model_weights.h5')"
   ]
  },
  {
   "cell_type": "markdown",
   "metadata": {},
   "source": [
    "## Part 2.1: Define the testing (inference) model and get answers from chatbot"
   ]
  },
  {
   "cell_type": "code",
   "execution_count": 238,
   "metadata": {},
   "outputs": [],
   "source": [
    "# Testing (inference) models\n",
    "\n",
    "inf_encoder_model=Model(encoder_input,encoder_states)\n",
    "\n",
    "decoder_input_states=[Input(shape=(1024,)),Input(shape=(1024,))]\n",
    "decoder_output,decoder_h,decoder_c=decoder_LSTM(decoder_input,initial_state=decoder_input_states)\n",
    "decoder_states=[decoder_h,decoder_c]\n",
    "decoder_output=decoder_dense(decoder_output)\n",
    "inf_decoder_model=Model(inputs=[decoder_input]+decoder_input_states,outputs=[decoder_output]+decoder_states)"
   ]
  },
  {
   "cell_type": "code",
   "execution_count": 239,
   "metadata": {},
   "outputs": [],
   "source": [
    "def get_answer(token):\n",
    "    \n",
    "    states=inf_encoder_model.predict(token)\n",
    "    target=np.zeros(shape=(1,1,len(freq_words_a)))\n",
    "    target[0,0,word_to_num_a[\"ST\"]]=1\n",
    "    answer=[]\n",
    "    proceed=True\n",
    "    \n",
    "    while proceed:\n",
    "        decoder_out,decoder_h,decoder_c=inf_decoder_model.predict(x=[target]+states)\n",
    "        new_word=num_to_word_a[np.argmax(decoder_out[0,-1,:])]\n",
    "        answer.append(new_word)\n",
    "        if (new_word==\"EOS\") or (len(answer)==max_len_a):\n",
    "            proceed=False\n",
    "        \n",
    "        states=[decoder_h,decoder_c]\n",
    "        target=np.zeros(shape=(1,1,len(freq_words_a)))\n",
    "        target[0,0,word_to_num_a[new_word]]=1\n",
    "    return answer"
   ]
  },
  {
   "cell_type": "code",
   "execution_count": 240,
   "metadata": {},
   "outputs": [],
   "source": [
    "def tokenize(sent):\n",
    "    token=np.zeros(shape=(1,max_len_q,len(freq_words_q)))\n",
    "    for ind,word in enumerate(sent):\n",
    "        token[0,ind,word_to_num_q[word]]=1\n",
    "    return token"
   ]
  },
  {
   "cell_type": "markdown",
   "metadata": {},
   "source": [
    "### Now we can talk with the chatbot, of course all words of our sentences will need to be in freq_words_q"
   ]
  },
  {
   "cell_type": "code",
   "execution_count": 259,
   "metadata": {},
   "outputs": [
    {
     "name": "stdout",
     "output_type": "stream",
     "text": [
      "Question: ['how', 'are', 'you']\n",
      "Answer from chatbot: ['i', 'do', 'not', 'know', 'how', 'much', 'i', 'feel', 'EOS']\n",
      "\n",
      "Question: ['where', 'are', 'you', 'going']\n",
      "Answer from chatbot: ['i', 'am', 'going', 'to', 'you', 'you', 'EOS']\n",
      "\n",
      "Question: ['are', 'you', 'really', 'trying']\n",
      "Answer from chatbot: ['no', 'i', 'am', 'fine', 'EOS']\n",
      "\n",
      "Question: ['i', 'have', 'good', 'luck', 'this', 'morning']\n",
      "Answer from chatbot: ['i', 'love', 'you', 'EOS']\n",
      "\n"
     ]
    }
   ],
   "source": [
    "questions=[[\"how\",\"are\",\"you\"],[\"where\",\"are\",\"you\",\"going\"],[\"are\",\"you\",\"really\",\"trying\"],\\\n",
    "          [\"i\",\"have\",\"good\",\"luck\",\"this\",\"morning\"]]\n",
    "\n",
    "for question in questions:\n",
    "    token=tokenize(question)\n",
    "    answer=get_answer(token)\n",
    "    \n",
    "    print(\"Question: {}\".format(question))\n",
    "    print(\"Answer from chatbot: {}\\n\".format(answer))"
   ]
  },
  {
   "cell_type": "code",
   "execution_count": null,
   "metadata": {},
   "outputs": [],
   "source": []
  }
 ],
 "metadata": {
  "kernelspec": {
   "display_name": "Python 2",
   "language": "python",
   "name": "python2"
  },
  "language_info": {
   "codemirror_mode": {
    "name": "ipython",
    "version": 2
   },
   "file_extension": ".py",
   "mimetype": "text/x-python",
   "name": "python",
   "nbconvert_exporter": "python",
   "pygments_lexer": "ipython2",
   "version": "2.7.15"
  }
 },
 "nbformat": 4,
 "nbformat_minor": 2
}
